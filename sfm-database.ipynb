{
 "cells": [
  {
   "cell_type": "code",
   "execution_count": 4,
   "metadata": {},
   "outputs": [
    {
     "name": "stdout",
     "output_type": "stream",
     "text": [
      "The autoreload extension is already loaded. To reload it, use:\n",
      "  %reload_ext autoreload\n",
      "/bin/zsh: /home/a410/anaconda3/envs/hloc/lib/libtinfo.so.6: no version information available (required by /bin/zsh)\n"
     ]
    }
   ],
   "source": [
    "%load_ext autoreload\n",
    "%autoreload 2\n",
    "import tqdm, tqdm.notebook\n",
    "tqdm.tqdm = tqdm.notebook.tqdm  # notebook-friendly progress bars\n",
    "from pathlib import Path\n",
    "import time\n",
    "import os\n",
    "from hloc import extract_features, match_features, reconstruction, visualization, pairs_from_exhaustive\n",
    "from hloc.visualization import plot_images, read_image\n",
    "from hloc.utils import viz_3d\n",
    "ways = ['spsg', 'r2d2nn', 'spnn', 'siftnn']\n",
    "way = ways[3]\n",
    "images = Path('./Data/imgwithmask')\n",
    "outputs = Path('./Data/output/'+way)\n",
    "!rm -rf $outputs\n",
    "sfm_pairs = outputs / 'pairs-sfm.txt'\n",
    "loc_pairs = outputs / 'pairs-loc.txt'\n",
    "sfm_dir = outputs / 'sfm'\n",
    "features = outputs / 'features.h5'\n",
    "matches = outputs / 'matches.h5'\n",
    "if way == 'spsg':\n",
    "    feature_conf = extract_features.confs['superpoint_aachen']\n",
    "    matcher_conf = match_features.confs['superglue']\n",
    "elif way == 'r2d2nn':\n",
    "    feature_conf = extract_features.confs['r2d2']\n",
    "    matcher_conf = match_features.confs['NN-mutual']\n",
    "elif way == 'spnn':\n",
    "    feature_conf = extract_features.confs['superpoint_aachen']\n",
    "    matcher_conf = match_features.confs['NN-mutual']\n",
    "elif way == 'siftnn':\n",
    "    feature_conf = extract_features.confs['sift']\n",
    "    matcher_conf = match_features.confs['NN-mutual']"
   ]
  },
  {
   "cell_type": "code",
   "execution_count": 5,
   "metadata": {},
   "outputs": [
    {
     "name": "stdout",
     "output_type": "stream",
     "text": [
      "33 mapping images\n"
     ]
    }
   ],
   "source": [
    "references = [p.relative_to(images).as_posix() for p in (images / '').iterdir()]\n",
    "print(len(references), \"mapping images\")\n",
    "#plot_images([read_image(images / r) for r in references[:4]], dpi=50)"
   ]
  },
  {
   "cell_type": "code",
   "execution_count": 6,
   "metadata": {},
   "outputs": [
    {
     "name": "stderr",
     "output_type": "stream",
     "text": [
      "[2023/05/11 19:46:29 hloc INFO] Extracting local features with configuration:\n",
      "{'model': {'name': 'dog'},\n",
      " 'output': 'feats-sift',\n",
      " 'preprocessing': {'grayscale': True, 'resize_max': 1600}}\n"
     ]
    },
    {
     "data": {
      "application/vnd.jupyter.widget-view+json": {
       "model_id": "e164edcbf78a4d75af72147a1b8831ec",
       "version_major": 2,
       "version_minor": 0
      },
      "text/plain": [
       "  0%|          | 0/33 [00:00<?, ?it/s]"
      ]
     },
     "metadata": {},
     "output_type": "display_data"
    },
    {
     "name": "stderr",
     "output_type": "stream",
     "text": [
      "[2023/05/11 19:46:32 hloc INFO] Finished exporting features.\n",
      "[2023/05/11 19:46:32 hloc INFO] Found 528 pairs.\n",
      "[2023/05/11 19:46:32 hloc INFO] Matching local features with configuration:\n",
      "{'model': {'do_mutual_check': True, 'name': 'nearest_neighbor'},\n",
      " 'output': 'matches-NN-mutual'}\n"
     ]
    },
    {
     "data": {
      "application/vnd.jupyter.widget-view+json": {
       "model_id": "9ab9e8525e784272bf9ef2b5818a95a4",
       "version_major": 2,
       "version_minor": 0
      },
      "text/plain": [
       "  0%|          | 0/528 [00:00<?, ?it/s]"
      ]
     },
     "metadata": {},
     "output_type": "display_data"
    },
    {
     "name": "stderr",
     "output_type": "stream",
     "text": [
      "[2023/05/11 19:47:10 hloc INFO] Finished exporting matches.\n"
     ]
    },
    {
     "data": {
      "text/plain": [
       "PosixPath('Data/output/siftnn/matches.h5')"
      ]
     },
     "execution_count": 6,
     "metadata": {},
     "output_type": "execute_result"
    }
   ],
   "source": [
    "extract_features.main(feature_conf, images, image_list=references, feature_path=features)\n",
    "pairs_from_exhaustive.main(sfm_pairs, image_list=references)\n",
    "match_features.main(matcher_conf, sfm_pairs, features=features, matches=matches)"
   ]
  }
 ],
 "metadata": {
  "kernelspec": {
   "display_name": "hloc",
   "language": "python",
   "name": "python3"
  },
  "language_info": {
   "codemirror_mode": {
    "name": "ipython",
    "version": 3
   },
   "file_extension": ".py",
   "mimetype": "text/x-python",
   "name": "python",
   "nbconvert_exporter": "python",
   "pygments_lexer": "ipython3",
   "version": "3.8.16"
  },
  "orig_nbformat": 4
 },
 "nbformat": 4,
 "nbformat_minor": 2
}
