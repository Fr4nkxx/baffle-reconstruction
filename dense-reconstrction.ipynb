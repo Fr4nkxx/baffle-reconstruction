{
 "cells": [
  {
   "cell_type": "code",
   "execution_count": 1,
   "metadata": {},
   "outputs": [],
   "source": [
    "import pycolmap\n",
    "mvs_path = './Data/output/spsg/mvs'\n",
    "image_dir = './Data/imgwithmask'\n",
    "database_path = './Data/output/spsg/sfm/database.db'\n",
    "sfm_path = './Data/output/spsg/sfm/'\n"
   ]
  },
  {
   "cell_type": "code",
   "execution_count": 2,
   "metadata": {},
   "outputs": [],
   "source": [
    "pycolmap.undistort_images(mvs_path, sfm_path, image_dir)\n",
    "pycolmap.undistort_images(mvs_path, sfm_path, image_dir, image_ids=[0, 1, 2, 3, 4, 5, 6, 7, 8, 9])"
   ]
  },
  {
   "cell_type": "code",
   "execution_count": null,
   "metadata": {},
   "outputs": [],
   "source": [
    "pycolmap.patch_match_stereo(mvs_path)  # requires compilation with CUDA\n"
   ]
  },
  {
   "cell_type": "code",
   "execution_count": null,
   "metadata": {},
   "outputs": [
    {
     "name": "stdout",
     "output_type": "stream",
     "text": [
      "\n",
      "StereoFusion::Options\n",
      "---------------------\n",
      "mask_path: \n",
      "max_image_size: -1\n",
      "min_num_pixels: 5\n",
      "max_num_pixels: 10000\n",
      "max_traversal_depth: 100\n",
      "max_reproj_error: 2\n",
      "max_depth_error: 0.01\n",
      "max_normal_error: 10\n",
      "check_num_images: 50\n",
      "use_cache: 0\n",
      "cache_size: 32\n",
      "bbox_min: -3.40282e+38 -3.40282e+38 -3.40282e+38\n",
      "bbox_max: 3.40282e+38 3.40282e+38 3.40282e+38\n",
      "\n",
      "Reading workspace...\n",
      "Loading workspace data with 48 threads...\n",
      "Elapsed time: 0.035 [minutes]\n",
      "Reading configuration...\n",
      "Starting fusion with 48 threads\n",
      "Fusing image [1/33] with index 0 in 4.977s (108556 points)\n",
      "Fusing image [2/33] with index 23 in 5.025s (212384 points)\n",
      "Fusing image [3/33] with index 24 in 4.853s (289141 points)\n",
      "Fusing image [4/33] with index 25 in 4.868s (350583 points)\n",
      "Fusing image [5/33] with index 26 in 4.855s (387467 points)\n",
      "Fusing image [6/33] with index 12 in 4.856s (410941 points)\n",
      "Fusing image [7/33] with index 13 in 4.842s (423209 points)\n",
      "Fusing image [8/33] with index 14 in 4.712s (428983 points)\n",
      "Fusing image [9/33] with index 15 in 4.717s (432245 points)\n",
      "Fusing image [10/33] with index 16 in 4.728s (433984 points)\n",
      "Fusing image [11/33] with index 1 in 4.756s (437407 points)\n",
      "Fusing image [12/33] with index 27 in 4.744s (451401 points)\n",
      "Fusing image [13/33] with index 28 in 4.751s (461413 points)\n",
      "Fusing image [14/33] with index 3 in 4.812s (465097 points)\n",
      "Fusing image [15/33] with index 29 in 4.828s (475354 points)\n",
      "Fusing image [16/33] with index 30 in 4.792s (479230 points)\n",
      "Fusing image [17/33] with index 32 in 4.705s (480234 points)\n",
      "Fusing image [18/33] with index 31 in 4.738s (480726 points)\n",
      "Fusing image [19/33] with index 8 in 4.941s (483811 points)\n",
      "Fusing image [20/33] with index 9 in 4.709s (484430 points)\n",
      "Fusing image [21/33] with index 10 in 4.829s (484591 points)\n",
      "Fusing image [22/33] with index 11 in 4.746s (484776 points)\n",
      "Fusing image [23/33] with index 2 in 4.761s (484823 points)\n",
      "Fusing image [24/33] with index 18 in 4.796s (485055 points)\n",
      "Fusing image [25/33] with index 20 in 4.821s (485303 points)\n",
      "Fusing image [26/33] with index 21 in 4.738s (485339 points)\n",
      "Fusing image [27/33] with index 19 in 4.813s (485341 points)\n",
      "Fusing image [28/33] with index 22 in 4.889s (485341 points)\n",
      "Fusing image [29/33] with index 4 in 4.815s (485351 points)\n",
      "Fusing image [30/33] with index 17 in 4.818s (485351 points)\n",
      "Fusing image [31/33] with index 5 in 4.928s (485359 points)\n",
      "Fusing image [32/33] with index 7 in 4.790s (485359 points)\n",
      "Fusing image [33/33] with index 6 in 3.751s (485359 points)\n",
      "Number of fused points: 485359\n",
      "Elapsed time: 2.671 [minutes]\n"
     ]
    },
    {
     "data": {
      "text/plain": [
       "<Reconstruction 'num_reg_images=33, num_cameras=33, num_points3D=485359, num_observations=5031'>"
      ]
     },
     "execution_count": 8,
     "metadata": {},
     "output_type": "execute_result"
    }
   ],
   "source": [
    "pycolmap.stereo_fusion('./Data/output/spsg/mvs/dense.ply', mvs_path)\n"
   ]
  },
  {
   "cell_type": "code",
   "execution_count": 1,
   "metadata": {},
   "outputs": [
    {
     "name": "stdout",
     "output_type": "stream",
     "text": [
      "Jupyter environment detected. Enabling Open3D WebVisualizer.\n",
      "[Open3D INFO] WebRTC GUI backend enabled.\n",
      "[Open3D INFO] WebRTCWindowSystem: HTTP handshake server disabled.\n"
     ]
    }
   ],
   "source": [
    "import open3d as o3d\n",
    "# visualization of point clouds.\n",
    "pcd = o3d.io.read_point_cloud('Data/output/spsg/mvs/fused.ply')\n",
    "o3d.visualization.draw_geometries([pcd])"
   ]
  }
 ],
 "metadata": {
  "kernelspec": {
   "display_name": "hloc",
   "language": "python",
   "name": "python3"
  },
  "language_info": {
   "codemirror_mode": {
    "name": "ipython",
    "version": 3
   },
   "file_extension": ".py",
   "mimetype": "text/x-python",
   "name": "python",
   "nbconvert_exporter": "python",
   "pygments_lexer": "ipython3",
   "version": "3.8.16"
  },
  "orig_nbformat": 4
 },
 "nbformat": 4,
 "nbformat_minor": 2
}
